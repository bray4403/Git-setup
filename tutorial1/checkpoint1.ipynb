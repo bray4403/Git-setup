{
  "cells": [
    {
      "cell_type": "markdown",
      "metadata": {
        "id": "AeU-MgfrfmPF"
      },
      "source": [
        "# Checkpoint 1"
      ]
    },
    {
      "cell_type": "markdown",
      "metadata": {
        "id": "AYckWgxpfmPG"
      },
      "source": [
        "Reminder: \n",
        "\n",
        "- You are being evaluated for compeletion and effort in this checkpoint. \n",
        "- Avoid manual labor / hard coding as much as possible, everything we've taught you so far are meant to simplify and automate your process."
      ]
    },
    {
      "cell_type": "markdown",
      "metadata": {
        "id": "R2nZEatsfmPH"
      },
      "source": [
        "We will be working with the same `states_edu.csv` that you should already be familiar with from the tutorial.\n",
        "\n",
        "We investigated Grade 8 reading score in the tutorial. For this checkpoint, you are asked to investigate another test. Here's an overview:\n",
        "\n",
        "* Choose a specific response variable to focus on\n",
        ">Grade 4 Math, Grade 4 Reading, Grade 8 Math\n",
        "* Pick or create features to use\n",
        ">Will all the features be useful in predicting test score? Are some more important than others? Should you standardize, bin, or scale the data?\n",
        "* Explore the data as it relates to that test\n",
        ">Create at least 2 visualizations (graphs), each with a caption describing the graph and what it tells us about the data\n",
        "* Create training and testing data\n",
        ">Do you want to train on all the data? Only data from the last 10 years? Only Michigan data?\n",
        "* Train a ML model to predict outcome \n",
        ">Define what you want to predict, and pick a model in sklearn to use (see sklearn <a href=\"https://scikit-learn.org/stable/modules/linear_model.html\">regressors</a>.\n",
        "* Summarize your findings\n",
        ">Write a 1 paragraph summary of what you did and make a recommendation about if and how student performance can be predicted\n",
        "\n",
        "Include comments throughout your code! Every cleanup and preprocessing task should be documented.\n",
        "\n",
        "Of course, if you're finding this assignment interesting (and we really hope you do!), you are welcome to do more than the requirements! For example, you may want to see if expenditure affects 4th graders more than 8th graders. Maybe you want to look into the extended version of this dataset and see how factors like sex and race are involved. You can include all your work in this notebook when you turn it in -- just always make sure you explain what you did and interpret your results. Good luck!"
      ]
    },
    {
      "cell_type": "markdown",
      "metadata": {
        "id": "iExxkyj4fmPI"
      },
      "source": [
        "<h2> Data Cleanup </h2>\n",
        "\n",
        "Import `numpy`, `pandas`, and `matplotlib`.\n",
        "\n",
        "(Feel free to import other libraries!)"
      ]
    },
    {
      "cell_type": "code",
      "execution_count": 1,
      "metadata": {
        "id": "ZAJQUyqVfmPI"
      },
      "outputs": [],
      "source": [
        "import pandas as pd\n",
        "import numpy as np\n",
        "import matplotlib.pyplot as plt\n"
      ]
    },
    {
      "cell_type": "markdown",
      "metadata": {
        "id": "rPGFs_0UfmPK"
      },
      "source": [
        "Load in the \"states_edu.csv\" dataset and take a look at the head of the data"
      ]
    },
    {
      "cell_type": "code",
      "execution_count": 3,
      "metadata": {
        "id": "5Z9Yuk_-fmPK",
        "colab": {
          "base_uri": "https://localhost:8080/",
          "height": 299
        },
        "outputId": "f9eb8c8c-5d6a-4abd-ebd6-bae08f155180"
      },
      "outputs": [
        {
          "output_type": "execute_result",
          "data": {
            "text/plain": [
              "       PRIMARY_KEY       STATE  YEAR  ENROLL  TOTAL_REVENUE  FEDERAL_REVENUE  \\\n",
              "0     1992_ALABAMA     ALABAMA  1992     NaN      2678885.0         304177.0   \n",
              "1      1992_ALASKA      ALASKA  1992     NaN      1049591.0         106780.0   \n",
              "2     1992_ARIZONA     ARIZONA  1992     NaN      3258079.0         297888.0   \n",
              "3    1992_ARKANSAS    ARKANSAS  1992     NaN      1711959.0         178571.0   \n",
              "4  1992_CALIFORNIA  CALIFORNIA  1992     NaN     26260025.0        2072470.0   \n",
              "\n",
              "   STATE_REVENUE  LOCAL_REVENUE  TOTAL_EXPENDITURE  INSTRUCTION_EXPENDITURE  \\\n",
              "0      1659028.0       715680.0          2653798.0                1481703.0   \n",
              "1       720711.0       222100.0           972488.0                 498362.0   \n",
              "2      1369815.0      1590376.0          3401580.0                1435908.0   \n",
              "3       958785.0       574603.0          1743022.0                 964323.0   \n",
              "4     16546514.0      7641041.0         27138832.0               14358922.0   \n",
              "\n",
              "   ...  GRADES_4_G  GRADES_8_G  GRADES_12_G  GRADES_1_8_G  GRADES_9_12_G  \\\n",
              "0  ...     57948.0     58025.0      41167.0           NaN            NaN   \n",
              "1  ...      9748.0      8789.0       6714.0           NaN            NaN   \n",
              "2  ...     55433.0     49081.0      37410.0           NaN            NaN   \n",
              "3  ...     34632.0     36011.0      27651.0           NaN            NaN   \n",
              "4  ...    418418.0    363296.0     270675.0           NaN            NaN   \n",
              "\n",
              "   GRADES_ALL_G  AVG_MATH_4_SCORE  AVG_MATH_8_SCORE  AVG_READING_4_SCORE  \\\n",
              "0      731634.0             208.0             252.0                207.0   \n",
              "1      122487.0               NaN               NaN                  NaN   \n",
              "2      673477.0             215.0             265.0                209.0   \n",
              "3      441490.0             210.0             256.0                211.0   \n",
              "4     5254844.0             208.0             261.0                202.0   \n",
              "\n",
              "   AVG_READING_8_SCORE  \n",
              "0                  NaN  \n",
              "1                  NaN  \n",
              "2                  NaN  \n",
              "3                  NaN  \n",
              "4                  NaN  \n",
              "\n",
              "[5 rows x 25 columns]"
            ],
            "text/html": [
              "\n",
              "  <div id=\"df-cccc971f-da5b-4c77-9114-ff88e096f3b3\">\n",
              "    <div class=\"colab-df-container\">\n",
              "      <div>\n",
              "<style scoped>\n",
              "    .dataframe tbody tr th:only-of-type {\n",
              "        vertical-align: middle;\n",
              "    }\n",
              "\n",
              "    .dataframe tbody tr th {\n",
              "        vertical-align: top;\n",
              "    }\n",
              "\n",
              "    .dataframe thead th {\n",
              "        text-align: right;\n",
              "    }\n",
              "</style>\n",
              "<table border=\"1\" class=\"dataframe\">\n",
              "  <thead>\n",
              "    <tr style=\"text-align: right;\">\n",
              "      <th></th>\n",
              "      <th>PRIMARY_KEY</th>\n",
              "      <th>STATE</th>\n",
              "      <th>YEAR</th>\n",
              "      <th>ENROLL</th>\n",
              "      <th>TOTAL_REVENUE</th>\n",
              "      <th>FEDERAL_REVENUE</th>\n",
              "      <th>STATE_REVENUE</th>\n",
              "      <th>LOCAL_REVENUE</th>\n",
              "      <th>TOTAL_EXPENDITURE</th>\n",
              "      <th>INSTRUCTION_EXPENDITURE</th>\n",
              "      <th>...</th>\n",
              "      <th>GRADES_4_G</th>\n",
              "      <th>GRADES_8_G</th>\n",
              "      <th>GRADES_12_G</th>\n",
              "      <th>GRADES_1_8_G</th>\n",
              "      <th>GRADES_9_12_G</th>\n",
              "      <th>GRADES_ALL_G</th>\n",
              "      <th>AVG_MATH_4_SCORE</th>\n",
              "      <th>AVG_MATH_8_SCORE</th>\n",
              "      <th>AVG_READING_4_SCORE</th>\n",
              "      <th>AVG_READING_8_SCORE</th>\n",
              "    </tr>\n",
              "  </thead>\n",
              "  <tbody>\n",
              "    <tr>\n",
              "      <th>0</th>\n",
              "      <td>1992_ALABAMA</td>\n",
              "      <td>ALABAMA</td>\n",
              "      <td>1992</td>\n",
              "      <td>NaN</td>\n",
              "      <td>2678885.0</td>\n",
              "      <td>304177.0</td>\n",
              "      <td>1659028.0</td>\n",
              "      <td>715680.0</td>\n",
              "      <td>2653798.0</td>\n",
              "      <td>1481703.0</td>\n",
              "      <td>...</td>\n",
              "      <td>57948.0</td>\n",
              "      <td>58025.0</td>\n",
              "      <td>41167.0</td>\n",
              "      <td>NaN</td>\n",
              "      <td>NaN</td>\n",
              "      <td>731634.0</td>\n",
              "      <td>208.0</td>\n",
              "      <td>252.0</td>\n",
              "      <td>207.0</td>\n",
              "      <td>NaN</td>\n",
              "    </tr>\n",
              "    <tr>\n",
              "      <th>1</th>\n",
              "      <td>1992_ALASKA</td>\n",
              "      <td>ALASKA</td>\n",
              "      <td>1992</td>\n",
              "      <td>NaN</td>\n",
              "      <td>1049591.0</td>\n",
              "      <td>106780.0</td>\n",
              "      <td>720711.0</td>\n",
              "      <td>222100.0</td>\n",
              "      <td>972488.0</td>\n",
              "      <td>498362.0</td>\n",
              "      <td>...</td>\n",
              "      <td>9748.0</td>\n",
              "      <td>8789.0</td>\n",
              "      <td>6714.0</td>\n",
              "      <td>NaN</td>\n",
              "      <td>NaN</td>\n",
              "      <td>122487.0</td>\n",
              "      <td>NaN</td>\n",
              "      <td>NaN</td>\n",
              "      <td>NaN</td>\n",
              "      <td>NaN</td>\n",
              "    </tr>\n",
              "    <tr>\n",
              "      <th>2</th>\n",
              "      <td>1992_ARIZONA</td>\n",
              "      <td>ARIZONA</td>\n",
              "      <td>1992</td>\n",
              "      <td>NaN</td>\n",
              "      <td>3258079.0</td>\n",
              "      <td>297888.0</td>\n",
              "      <td>1369815.0</td>\n",
              "      <td>1590376.0</td>\n",
              "      <td>3401580.0</td>\n",
              "      <td>1435908.0</td>\n",
              "      <td>...</td>\n",
              "      <td>55433.0</td>\n",
              "      <td>49081.0</td>\n",
              "      <td>37410.0</td>\n",
              "      <td>NaN</td>\n",
              "      <td>NaN</td>\n",
              "      <td>673477.0</td>\n",
              "      <td>215.0</td>\n",
              "      <td>265.0</td>\n",
              "      <td>209.0</td>\n",
              "      <td>NaN</td>\n",
              "    </tr>\n",
              "    <tr>\n",
              "      <th>3</th>\n",
              "      <td>1992_ARKANSAS</td>\n",
              "      <td>ARKANSAS</td>\n",
              "      <td>1992</td>\n",
              "      <td>NaN</td>\n",
              "      <td>1711959.0</td>\n",
              "      <td>178571.0</td>\n",
              "      <td>958785.0</td>\n",
              "      <td>574603.0</td>\n",
              "      <td>1743022.0</td>\n",
              "      <td>964323.0</td>\n",
              "      <td>...</td>\n",
              "      <td>34632.0</td>\n",
              "      <td>36011.0</td>\n",
              "      <td>27651.0</td>\n",
              "      <td>NaN</td>\n",
              "      <td>NaN</td>\n",
              "      <td>441490.0</td>\n",
              "      <td>210.0</td>\n",
              "      <td>256.0</td>\n",
              "      <td>211.0</td>\n",
              "      <td>NaN</td>\n",
              "    </tr>\n",
              "    <tr>\n",
              "      <th>4</th>\n",
              "      <td>1992_CALIFORNIA</td>\n",
              "      <td>CALIFORNIA</td>\n",
              "      <td>1992</td>\n",
              "      <td>NaN</td>\n",
              "      <td>26260025.0</td>\n",
              "      <td>2072470.0</td>\n",
              "      <td>16546514.0</td>\n",
              "      <td>7641041.0</td>\n",
              "      <td>27138832.0</td>\n",
              "      <td>14358922.0</td>\n",
              "      <td>...</td>\n",
              "      <td>418418.0</td>\n",
              "      <td>363296.0</td>\n",
              "      <td>270675.0</td>\n",
              "      <td>NaN</td>\n",
              "      <td>NaN</td>\n",
              "      <td>5254844.0</td>\n",
              "      <td>208.0</td>\n",
              "      <td>261.0</td>\n",
              "      <td>202.0</td>\n",
              "      <td>NaN</td>\n",
              "    </tr>\n",
              "  </tbody>\n",
              "</table>\n",
              "<p>5 rows × 25 columns</p>\n",
              "</div>\n",
              "      <button class=\"colab-df-convert\" onclick=\"convertToInteractive('df-cccc971f-da5b-4c77-9114-ff88e096f3b3')\"\n",
              "              title=\"Convert this dataframe to an interactive table.\"\n",
              "              style=\"display:none;\">\n",
              "        \n",
              "  <svg xmlns=\"http://www.w3.org/2000/svg\" height=\"24px\"viewBox=\"0 0 24 24\"\n",
              "       width=\"24px\">\n",
              "    <path d=\"M0 0h24v24H0V0z\" fill=\"none\"/>\n",
              "    <path d=\"M18.56 5.44l.94 2.06.94-2.06 2.06-.94-2.06-.94-.94-2.06-.94 2.06-2.06.94zm-11 1L8.5 8.5l.94-2.06 2.06-.94-2.06-.94L8.5 2.5l-.94 2.06-2.06.94zm10 10l.94 2.06.94-2.06 2.06-.94-2.06-.94-.94-2.06-.94 2.06-2.06.94z\"/><path d=\"M17.41 7.96l-1.37-1.37c-.4-.4-.92-.59-1.43-.59-.52 0-1.04.2-1.43.59L10.3 9.45l-7.72 7.72c-.78.78-.78 2.05 0 2.83L4 21.41c.39.39.9.59 1.41.59.51 0 1.02-.2 1.41-.59l7.78-7.78 2.81-2.81c.8-.78.8-2.07 0-2.86zM5.41 20L4 18.59l7.72-7.72 1.47 1.35L5.41 20z\"/>\n",
              "  </svg>\n",
              "      </button>\n",
              "      \n",
              "  <style>\n",
              "    .colab-df-container {\n",
              "      display:flex;\n",
              "      flex-wrap:wrap;\n",
              "      gap: 12px;\n",
              "    }\n",
              "\n",
              "    .colab-df-convert {\n",
              "      background-color: #E8F0FE;\n",
              "      border: none;\n",
              "      border-radius: 50%;\n",
              "      cursor: pointer;\n",
              "      display: none;\n",
              "      fill: #1967D2;\n",
              "      height: 32px;\n",
              "      padding: 0 0 0 0;\n",
              "      width: 32px;\n",
              "    }\n",
              "\n",
              "    .colab-df-convert:hover {\n",
              "      background-color: #E2EBFA;\n",
              "      box-shadow: 0px 1px 2px rgba(60, 64, 67, 0.3), 0px 1px 3px 1px rgba(60, 64, 67, 0.15);\n",
              "      fill: #174EA6;\n",
              "    }\n",
              "\n",
              "    [theme=dark] .colab-df-convert {\n",
              "      background-color: #3B4455;\n",
              "      fill: #D2E3FC;\n",
              "    }\n",
              "\n",
              "    [theme=dark] .colab-df-convert:hover {\n",
              "      background-color: #434B5C;\n",
              "      box-shadow: 0px 1px 3px 1px rgba(0, 0, 0, 0.15);\n",
              "      filter: drop-shadow(0px 1px 2px rgba(0, 0, 0, 0.3));\n",
              "      fill: #FFFFFF;\n",
              "    }\n",
              "  </style>\n",
              "\n",
              "      <script>\n",
              "        const buttonEl =\n",
              "          document.querySelector('#df-cccc971f-da5b-4c77-9114-ff88e096f3b3 button.colab-df-convert');\n",
              "        buttonEl.style.display =\n",
              "          google.colab.kernel.accessAllowed ? 'block' : 'none';\n",
              "\n",
              "        async function convertToInteractive(key) {\n",
              "          const element = document.querySelector('#df-cccc971f-da5b-4c77-9114-ff88e096f3b3');\n",
              "          const dataTable =\n",
              "            await google.colab.kernel.invokeFunction('convertToInteractive',\n",
              "                                                     [key], {});\n",
              "          if (!dataTable) return;\n",
              "\n",
              "          const docLinkHtml = 'Like what you see? Visit the ' +\n",
              "            '<a target=\"_blank\" href=https://colab.research.google.com/notebooks/data_table.ipynb>data table notebook</a>'\n",
              "            + ' to learn more about interactive tables.';\n",
              "          element.innerHTML = '';\n",
              "          dataTable['output_type'] = 'display_data';\n",
              "          await google.colab.output.renderOutput(dataTable, element);\n",
              "          const docLink = document.createElement('div');\n",
              "          docLink.innerHTML = docLinkHtml;\n",
              "          element.appendChild(docLink);\n",
              "        }\n",
              "      </script>\n",
              "    </div>\n",
              "  </div>\n",
              "  "
            ]
          },
          "metadata": {},
          "execution_count": 3
        }
      ],
      "source": [
        "df = pd.read_csv('/content/states_edu.csv')\n",
        "df.head()"
      ]
    },
    {
      "cell_type": "markdown",
      "metadata": {
        "id": "PtCH22EBfmPL"
      },
      "source": [
        "You should always familiarize yourself with what each column in the dataframe represents. Read about the states_edu dataset here: https://www.kaggle.com/noriuk/us-education-datasets-unification-project"
      ]
    },
    {
      "cell_type": "markdown",
      "metadata": {
        "id": "jI1vxd8PfmPL"
      },
      "source": [
        "Use this space to rename columns, deal with missing data, etc. _(optional)_"
      ]
    },
    {
      "cell_type": "code",
      "execution_count": 5,
      "metadata": {
        "id": "wXJ_e6_-fmPL",
        "colab": {
          "base_uri": "https://localhost:8080/",
          "height": 299
        },
        "outputId": "1b2f1ac4-b12b-43b2-9acb-5cfd243b262d"
      },
      "outputs": [
        {
          "output_type": "execute_result",
          "data": {
            "text/plain": [
              "       PRIMARY_KEY       STATE  YEAR  ENROLL_ALL_EST  TOTAL_REVENUE  \\\n",
              "0     1992_ALABAMA     ALABAMA  1992             NaN      2678885.0   \n",
              "1      1992_ALASKA      ALASKA  1992             NaN      1049591.0   \n",
              "2     1992_ARIZONA     ARIZONA  1992             NaN      3258079.0   \n",
              "3    1992_ARKANSAS    ARKANSAS  1992             NaN      1711959.0   \n",
              "4  1992_CALIFORNIA  CALIFORNIA  1992             NaN     26260025.0   \n",
              "\n",
              "   FEDERAL_REVENUE  STATE_REVENUE  LOCAL_REVENUE  TOTAL_EXPENDITURE  \\\n",
              "0         304177.0      1659028.0       715680.0          2653798.0   \n",
              "1         106780.0       720711.0       222100.0           972488.0   \n",
              "2         297888.0      1369815.0      1590376.0          3401580.0   \n",
              "3         178571.0       958785.0       574603.0          1743022.0   \n",
              "4        2072470.0     16546514.0      7641041.0         27138832.0   \n",
              "\n",
              "   INSTRUCTION_EXPENDITURE  ...  ENROLL_4  ENROLL_8  ENROLL_12  \\\n",
              "0                1481703.0  ...   57948.0   58025.0    41167.0   \n",
              "1                 498362.0  ...    9748.0    8789.0     6714.0   \n",
              "2                1435908.0  ...   55433.0   49081.0    37410.0   \n",
              "3                 964323.0  ...   34632.0   36011.0    27651.0   \n",
              "4               14358922.0  ...  418418.0  363296.0   270675.0   \n",
              "\n",
              "   ENROLL_PRIMARY  ENROLL_HS  ENROLL_ALL  AVG_MATH_4_SCORE  AVG_MATH_8_SCORE  \\\n",
              "0             NaN        NaN    731634.0             208.0             252.0   \n",
              "1             NaN        NaN    122487.0               NaN               NaN   \n",
              "2             NaN        NaN    673477.0             215.0             265.0   \n",
              "3             NaN        NaN    441490.0             210.0             256.0   \n",
              "4             NaN        NaN   5254844.0             208.0             261.0   \n",
              "\n",
              "   AVG_READING_4_SCORE  AVG_READING_8_SCORE  \n",
              "0                207.0                  NaN  \n",
              "1                  NaN                  NaN  \n",
              "2                209.0                  NaN  \n",
              "3                211.0                  NaN  \n",
              "4                202.0                  NaN  \n",
              "\n",
              "[5 rows x 25 columns]"
            ],
            "text/html": [
              "\n",
              "  <div id=\"df-80979379-9542-4061-8bf8-fa5ce89bde01\">\n",
              "    <div class=\"colab-df-container\">\n",
              "      <div>\n",
              "<style scoped>\n",
              "    .dataframe tbody tr th:only-of-type {\n",
              "        vertical-align: middle;\n",
              "    }\n",
              "\n",
              "    .dataframe tbody tr th {\n",
              "        vertical-align: top;\n",
              "    }\n",
              "\n",
              "    .dataframe thead th {\n",
              "        text-align: right;\n",
              "    }\n",
              "</style>\n",
              "<table border=\"1\" class=\"dataframe\">\n",
              "  <thead>\n",
              "    <tr style=\"text-align: right;\">\n",
              "      <th></th>\n",
              "      <th>PRIMARY_KEY</th>\n",
              "      <th>STATE</th>\n",
              "      <th>YEAR</th>\n",
              "      <th>ENROLL_ALL_EST</th>\n",
              "      <th>TOTAL_REVENUE</th>\n",
              "      <th>FEDERAL_REVENUE</th>\n",
              "      <th>STATE_REVENUE</th>\n",
              "      <th>LOCAL_REVENUE</th>\n",
              "      <th>TOTAL_EXPENDITURE</th>\n",
              "      <th>INSTRUCTION_EXPENDITURE</th>\n",
              "      <th>...</th>\n",
              "      <th>ENROLL_4</th>\n",
              "      <th>ENROLL_8</th>\n",
              "      <th>ENROLL_12</th>\n",
              "      <th>ENROLL_PRIMARY</th>\n",
              "      <th>ENROLL_HS</th>\n",
              "      <th>ENROLL_ALL</th>\n",
              "      <th>AVG_MATH_4_SCORE</th>\n",
              "      <th>AVG_MATH_8_SCORE</th>\n",
              "      <th>AVG_READING_4_SCORE</th>\n",
              "      <th>AVG_READING_8_SCORE</th>\n",
              "    </tr>\n",
              "  </thead>\n",
              "  <tbody>\n",
              "    <tr>\n",
              "      <th>0</th>\n",
              "      <td>1992_ALABAMA</td>\n",
              "      <td>ALABAMA</td>\n",
              "      <td>1992</td>\n",
              "      <td>NaN</td>\n",
              "      <td>2678885.0</td>\n",
              "      <td>304177.0</td>\n",
              "      <td>1659028.0</td>\n",
              "      <td>715680.0</td>\n",
              "      <td>2653798.0</td>\n",
              "      <td>1481703.0</td>\n",
              "      <td>...</td>\n",
              "      <td>57948.0</td>\n",
              "      <td>58025.0</td>\n",
              "      <td>41167.0</td>\n",
              "      <td>NaN</td>\n",
              "      <td>NaN</td>\n",
              "      <td>731634.0</td>\n",
              "      <td>208.0</td>\n",
              "      <td>252.0</td>\n",
              "      <td>207.0</td>\n",
              "      <td>NaN</td>\n",
              "    </tr>\n",
              "    <tr>\n",
              "      <th>1</th>\n",
              "      <td>1992_ALASKA</td>\n",
              "      <td>ALASKA</td>\n",
              "      <td>1992</td>\n",
              "      <td>NaN</td>\n",
              "      <td>1049591.0</td>\n",
              "      <td>106780.0</td>\n",
              "      <td>720711.0</td>\n",
              "      <td>222100.0</td>\n",
              "      <td>972488.0</td>\n",
              "      <td>498362.0</td>\n",
              "      <td>...</td>\n",
              "      <td>9748.0</td>\n",
              "      <td>8789.0</td>\n",
              "      <td>6714.0</td>\n",
              "      <td>NaN</td>\n",
              "      <td>NaN</td>\n",
              "      <td>122487.0</td>\n",
              "      <td>NaN</td>\n",
              "      <td>NaN</td>\n",
              "      <td>NaN</td>\n",
              "      <td>NaN</td>\n",
              "    </tr>\n",
              "    <tr>\n",
              "      <th>2</th>\n",
              "      <td>1992_ARIZONA</td>\n",
              "      <td>ARIZONA</td>\n",
              "      <td>1992</td>\n",
              "      <td>NaN</td>\n",
              "      <td>3258079.0</td>\n",
              "      <td>297888.0</td>\n",
              "      <td>1369815.0</td>\n",
              "      <td>1590376.0</td>\n",
              "      <td>3401580.0</td>\n",
              "      <td>1435908.0</td>\n",
              "      <td>...</td>\n",
              "      <td>55433.0</td>\n",
              "      <td>49081.0</td>\n",
              "      <td>37410.0</td>\n",
              "      <td>NaN</td>\n",
              "      <td>NaN</td>\n",
              "      <td>673477.0</td>\n",
              "      <td>215.0</td>\n",
              "      <td>265.0</td>\n",
              "      <td>209.0</td>\n",
              "      <td>NaN</td>\n",
              "    </tr>\n",
              "    <tr>\n",
              "      <th>3</th>\n",
              "      <td>1992_ARKANSAS</td>\n",
              "      <td>ARKANSAS</td>\n",
              "      <td>1992</td>\n",
              "      <td>NaN</td>\n",
              "      <td>1711959.0</td>\n",
              "      <td>178571.0</td>\n",
              "      <td>958785.0</td>\n",
              "      <td>574603.0</td>\n",
              "      <td>1743022.0</td>\n",
              "      <td>964323.0</td>\n",
              "      <td>...</td>\n",
              "      <td>34632.0</td>\n",
              "      <td>36011.0</td>\n",
              "      <td>27651.0</td>\n",
              "      <td>NaN</td>\n",
              "      <td>NaN</td>\n",
              "      <td>441490.0</td>\n",
              "      <td>210.0</td>\n",
              "      <td>256.0</td>\n",
              "      <td>211.0</td>\n",
              "      <td>NaN</td>\n",
              "    </tr>\n",
              "    <tr>\n",
              "      <th>4</th>\n",
              "      <td>1992_CALIFORNIA</td>\n",
              "      <td>CALIFORNIA</td>\n",
              "      <td>1992</td>\n",
              "      <td>NaN</td>\n",
              "      <td>26260025.0</td>\n",
              "      <td>2072470.0</td>\n",
              "      <td>16546514.0</td>\n",
              "      <td>7641041.0</td>\n",
              "      <td>27138832.0</td>\n",
              "      <td>14358922.0</td>\n",
              "      <td>...</td>\n",
              "      <td>418418.0</td>\n",
              "      <td>363296.0</td>\n",
              "      <td>270675.0</td>\n",
              "      <td>NaN</td>\n",
              "      <td>NaN</td>\n",
              "      <td>5254844.0</td>\n",
              "      <td>208.0</td>\n",
              "      <td>261.0</td>\n",
              "      <td>202.0</td>\n",
              "      <td>NaN</td>\n",
              "    </tr>\n",
              "  </tbody>\n",
              "</table>\n",
              "<p>5 rows × 25 columns</p>\n",
              "</div>\n",
              "      <button class=\"colab-df-convert\" onclick=\"convertToInteractive('df-80979379-9542-4061-8bf8-fa5ce89bde01')\"\n",
              "              title=\"Convert this dataframe to an interactive table.\"\n",
              "              style=\"display:none;\">\n",
              "        \n",
              "  <svg xmlns=\"http://www.w3.org/2000/svg\" height=\"24px\"viewBox=\"0 0 24 24\"\n",
              "       width=\"24px\">\n",
              "    <path d=\"M0 0h24v24H0V0z\" fill=\"none\"/>\n",
              "    <path d=\"M18.56 5.44l.94 2.06.94-2.06 2.06-.94-2.06-.94-.94-2.06-.94 2.06-2.06.94zm-11 1L8.5 8.5l.94-2.06 2.06-.94-2.06-.94L8.5 2.5l-.94 2.06-2.06.94zm10 10l.94 2.06.94-2.06 2.06-.94-2.06-.94-.94-2.06-.94 2.06-2.06.94z\"/><path d=\"M17.41 7.96l-1.37-1.37c-.4-.4-.92-.59-1.43-.59-.52 0-1.04.2-1.43.59L10.3 9.45l-7.72 7.72c-.78.78-.78 2.05 0 2.83L4 21.41c.39.39.9.59 1.41.59.51 0 1.02-.2 1.41-.59l7.78-7.78 2.81-2.81c.8-.78.8-2.07 0-2.86zM5.41 20L4 18.59l7.72-7.72 1.47 1.35L5.41 20z\"/>\n",
              "  </svg>\n",
              "      </button>\n",
              "      \n",
              "  <style>\n",
              "    .colab-df-container {\n",
              "      display:flex;\n",
              "      flex-wrap:wrap;\n",
              "      gap: 12px;\n",
              "    }\n",
              "\n",
              "    .colab-df-convert {\n",
              "      background-color: #E8F0FE;\n",
              "      border: none;\n",
              "      border-radius: 50%;\n",
              "      cursor: pointer;\n",
              "      display: none;\n",
              "      fill: #1967D2;\n",
              "      height: 32px;\n",
              "      padding: 0 0 0 0;\n",
              "      width: 32px;\n",
              "    }\n",
              "\n",
              "    .colab-df-convert:hover {\n",
              "      background-color: #E2EBFA;\n",
              "      box-shadow: 0px 1px 2px rgba(60, 64, 67, 0.3), 0px 1px 3px 1px rgba(60, 64, 67, 0.15);\n",
              "      fill: #174EA6;\n",
              "    }\n",
              "\n",
              "    [theme=dark] .colab-df-convert {\n",
              "      background-color: #3B4455;\n",
              "      fill: #D2E3FC;\n",
              "    }\n",
              "\n",
              "    [theme=dark] .colab-df-convert:hover {\n",
              "      background-color: #434B5C;\n",
              "      box-shadow: 0px 1px 3px 1px rgba(0, 0, 0, 0.15);\n",
              "      filter: drop-shadow(0px 1px 2px rgba(0, 0, 0, 0.3));\n",
              "      fill: #FFFFFF;\n",
              "    }\n",
              "  </style>\n",
              "\n",
              "      <script>\n",
              "        const buttonEl =\n",
              "          document.querySelector('#df-80979379-9542-4061-8bf8-fa5ce89bde01 button.colab-df-convert');\n",
              "        buttonEl.style.display =\n",
              "          google.colab.kernel.accessAllowed ? 'block' : 'none';\n",
              "\n",
              "        async function convertToInteractive(key) {\n",
              "          const element = document.querySelector('#df-80979379-9542-4061-8bf8-fa5ce89bde01');\n",
              "          const dataTable =\n",
              "            await google.colab.kernel.invokeFunction('convertToInteractive',\n",
              "                                                     [key], {});\n",
              "          if (!dataTable) return;\n",
              "\n",
              "          const docLinkHtml = 'Like what you see? Visit the ' +\n",
              "            '<a target=\"_blank\" href=https://colab.research.google.com/notebooks/data_table.ipynb>data table notebook</a>'\n",
              "            + ' to learn more about interactive tables.';\n",
              "          element.innerHTML = '';\n",
              "          dataTable['output_type'] = 'display_data';\n",
              "          await google.colab.output.renderOutput(dataTable, element);\n",
              "          const docLink = document.createElement('div');\n",
              "          docLink.innerHTML = docLinkHtml;\n",
              "          element.appendChild(docLink);\n",
              "        }\n",
              "      </script>\n",
              "    </div>\n",
              "  </div>\n",
              "  "
            ]
          },
          "metadata": {},
          "execution_count": 5
        }
      ],
      "source": [
        "df.rename({\n",
        "    'GRADES_PK_G':'ENROLL_PREK',\n",
        "    'GRADES_KG_G':'ENROLL_KINDER',\n",
        "    'GRADES_4_G':'ENROLL_4',\n",
        "    'GRADES_8_G':'ENROLL_8',\n",
        "    'GRADES_12_G':'ENROLL_12',\n",
        "    'GRADES_1_8_G':'ENROLL_PRIMARY',\n",
        "    'GRADES_9_12_G':'ENROLL_HS',\n",
        "    'GRADES_ALL_G':'ENROLL_ALL',\n",
        "    'ENROLL':'ENROLL_ALL_EST'\n",
        "    },\n",
        "    axis=1,inplace=True)\n",
        "df.head()\n"
      ]
    },
    {
      "cell_type": "markdown",
      "metadata": {
        "id": "ybMrV8CmfmPM"
      },
      "source": [
        "<h2>Exploratory Data Analysis (EDA) </h2>"
      ]
    },
    {
      "cell_type": "markdown",
      "metadata": {
        "id": "9aNQL3ldfmPM"
      },
      "source": [
        "Chosen Outcome Variable for Test: Grade 4 Math"
      ]
    },
    {
      "cell_type": "markdown",
      "metadata": {
        "id": "TnNdw2OPfmPM"
      },
      "source": [
        "How many years of data are logged in our dataset? "
      ]
    },
    {
      "cell_type": "code",
      "execution_count": 37,
      "metadata": {
        "id": "KtFB11OEfmPM",
        "colab": {
          "base_uri": "https://localhost:8080/"
        },
        "outputId": "f1f77916-57c7-49a7-e863-8c46d6c91ff2"
      },
      "outputs": [
        {
          "output_type": "execute_result",
          "data": {
            "text/plain": [
              "33"
            ]
          },
          "metadata": {},
          "execution_count": 37
        }
      ],
      "source": [
        "df[\"YEAR\"].nunique()"
      ]
    },
    {
      "cell_type": "markdown",
      "metadata": {
        "id": "TEQZZwK1fmPM"
      },
      "source": [
        "Let's compare Michigan to Ohio. Which state has the higher average outcome score across all years?"
      ]
    },
    {
      "cell_type": "code",
      "execution_count": 23,
      "metadata": {
        "id": "UiNLoTzEfmPN",
        "colab": {
          "base_uri": "https://localhost:8080/"
        },
        "outputId": "814da91b-7355-45f8-eb76-b31e3aee47b5"
      },
      "outputs": [
        {
          "output_type": "stream",
          "name": "stdout",
          "text": [
            "ohio\n"
          ]
        }
      ],
      "source": [
        "df_mich = df[df[\"STATE\"] == \"MICHIGAN\"].AVG_MATH_4_SCORE.mean()\n",
        "df_ohio = df[df[\"STATE\"] == \"OHIO\"].AVG_MATH_4_SCORE.mean()\n",
        "if (df_mich > df_ohio):\n",
        "  print(\"michigan\")\n",
        "else:\n",
        "  print(\"ohio\")"
      ]
    },
    {
      "cell_type": "markdown",
      "metadata": {
        "id": "WnN-1SllfmPN"
      },
      "source": [
        "Find the average for your outcome score across all states in 2019"
      ]
    },
    {
      "cell_type": "code",
      "execution_count": 25,
      "metadata": {
        "id": "pwiSadH7fmPN",
        "colab": {
          "base_uri": "https://localhost:8080/"
        },
        "outputId": "513f2e61-05ee-4ef9-9300-67ac7eb9b018"
      },
      "outputs": [
        {
          "output_type": "execute_result",
          "data": {
            "text/plain": [
              "239.9433962264151"
            ]
          },
          "metadata": {},
          "execution_count": 25
        }
      ],
      "source": [
        "all_states = df[df[\"YEAR\"] == 2019].AVG_MATH_4_SCORE.mean()\n",
        "all_states"
      ]
    },
    {
      "cell_type": "markdown",
      "metadata": {
        "id": "fLvbJsoVfmPN"
      },
      "source": [
        "Find the maximum outcome score for every state. \n",
        "\n",
        "Refer to the `Grouping and Aggregating` section in Tutorial 0 if you are stuck."
      ]
    },
    {
      "cell_type": "code",
      "execution_count": 28,
      "metadata": {
        "id": "fIfxO03zfmPN",
        "colab": {
          "base_uri": "https://localhost:8080/"
        },
        "outputId": "dfad5aa5-9d4d-4e39-a0f5-fadd7d9cbf59"
      },
      "outputs": [
        {
          "output_type": "execute_result",
          "data": {
            "text/plain": [
              "STATE\n",
              "ALABAMA                 233.0\n",
              "ALASKA                  237.0\n",
              "ARIZONA                 240.0\n",
              "ARKANSAS                240.0\n",
              "CALIFORNIA              235.0\n",
              "COLORADO                247.0\n",
              "CONNECTICUT             245.0\n",
              "DELAWARE                243.0\n",
              "DISTRICT_OF_COLUMBIA    235.0\n",
              "DODEA                   250.0\n",
              "FLORIDA                 246.0\n",
              "GEORGIA                 240.0\n",
              "HAWAII                  243.0\n",
              "IDAHO                   242.0\n",
              "ILLINOIS                239.0\n",
              "INDIANA                 249.0\n",
              "IOWA                    246.0\n",
              "KANSAS                  248.0\n",
              "KENTUCKY                242.0\n",
              "LOUISIANA               234.0\n",
              "MAINE                   246.0\n",
              "MARYLAND                247.0\n",
              "MASSACHUSETTS           253.0\n",
              "MICHIGAN                238.0\n",
              "MINNESOTA               253.0\n",
              "MISSISSIPPI             241.0\n",
              "MISSOURI                241.0\n",
              "MONTANA                 244.0\n",
              "NATIONAL                242.0\n",
              "NEBRASKA                246.0\n",
              "NEVADA                  237.0\n",
              "NEW_HAMPSHIRE           253.0\n",
              "NEW_JERSEY              249.0\n",
              "NEW_MEXICO              233.0\n",
              "NEW_YORK                243.0\n",
              "NORTH_CAROLINA          245.0\n",
              "NORTH_DAKOTA            246.0\n",
              "OHIO                    246.0\n",
              "OKLAHOMA                240.0\n",
              "OREGON                  240.0\n",
              "PENNSYLVANIA            246.0\n",
              "RHODE_ISLAND            242.0\n",
              "SOUTH_CAROLINA          238.0\n",
              "SOUTH_DAKOTA            242.0\n",
              "TENNESSEE               241.0\n",
              "TEXAS                   244.0\n",
              "UTAH                    244.0\n",
              "VERMONT                 248.0\n",
              "VIRGINIA                248.0\n",
              "WASHINGTON              246.0\n",
              "WEST_VIRGINIA           237.0\n",
              "WISCONSIN               245.0\n",
              "WYOMING                 248.0\n",
              "Name: AVG_MATH_4_SCORE, dtype: float64"
            ]
          },
          "metadata": {},
          "execution_count": 28
        }
      ],
      "source": [
        "df.groupby(\"STATE\")[\"AVG_MATH_4_SCORE\"].max()"
      ]
    },
    {
      "cell_type": "markdown",
      "metadata": {
        "id": "iuUDZcOVfmPN"
      },
      "source": [
        "<h2> Feature Engineering </h2>\n",
        "\n",
        "After exploring the data, you can choose to modify features that you would use to predict the performance of the students on your chosen response variable. \n",
        "\n",
        "You can also create your own features. For example, perhaps you figured that maybe a state's expenditure per student may affect their overall academic performance so you create a expenditure_per_student feature.\n",
        "\n",
        "Use this space to modify or create features."
      ]
    },
    {
      "cell_type": "code",
      "execution_count": 41,
      "metadata": {
        "id": "zjtvYn33fmPN"
      },
      "outputs": [],
      "source": [
        "df[\"expenditure_per_student\"] = df[\"TOTAL_EXPENDITURE\"] / df[\"ENROLL_4\"]"
      ]
    },
    {
      "cell_type": "markdown",
      "metadata": {
        "id": "JFU_8S1HfmPO"
      },
      "source": [
        "Feature engineering justification: **<BRIEFLY DESCRIBE WHY YOU MADE THE CHANGES THAT YOU DID\\>**"
      ]
    },
    {
      "cell_type": "markdown",
      "metadata": {
        "id": "o3U0xP11fmPO"
      },
      "source": [
        "<h2>Visualization</h2>\n",
        "\n",
        "Investigate the relationship between your chosen response variable and at least two predictors using visualizations. Write down your observations.\n",
        "\n",
        "**Visualization 1**"
      ]
    },
    {
      "cell_type": "code",
      "execution_count": 34,
      "metadata": {
        "id": "DExZG90bfmPO",
        "colab": {
          "base_uri": "https://localhost:8080/",
          "height": 313
        },
        "outputId": "96602062-e60a-4e5d-80de-87189a1fbaff"
      },
      "outputs": [
        {
          "output_type": "execute_result",
          "data": {
            "text/plain": [
              "<matplotlib.axes._subplots.AxesSubplot at 0x7f44c3923a30>"
            ]
          },
          "metadata": {},
          "execution_count": 34
        },
        {
          "output_type": "display_data",
          "data": {
            "text/plain": [
              "<Figure size 432x288 with 1 Axes>"
            ],
            "image/png": "[encoded data removed]"
          },
          "metadata": {
            "needs_background": "light"
          }
        }
      ],
      "source": [
        "\n",
        "df.plot.scatter(x = 'TOTAL_REVENUE', y = 'AVG_MATH_4_SCORE', title = \"Total Revenue vs Average Math Score\")"
      ]
    },
    {
      "cell_type": "markdown",
      "metadata": {
        "id": "YfBPl5kzfmPO"
      },
      "source": [
        "** italicized text<CAPTION FOR VIZ 1>**"
      ]
    },
    {
      "cell_type": "markdown",
      "source": [
        "As you see from the graph above total revenue isn't very predicative of average grade 4 math score but you do see that most total revenue is clumped to the left \n"
      ],
      "metadata": {
        "id": "LTX4NBj_0v09"
      }
    },
    {
      "cell_type": "markdown",
      "metadata": {
        "id": "4GZ-ymcefmPO"
      },
      "source": [
        "**Visualization 2**"
      ]
    },
    {
      "cell_type": "code",
      "source": [
        "df.plot.scatter(x = 'INSTRUCTION_EXPENDITURE', y = 'AVG_MATH_4_SCORE', title = \"Money Spent on School vs Average Math Score\")"
      ],
      "metadata": {
        "colab": {
          "base_uri": "https://localhost:8080/",
          "height": 313
        },
        "id": "Cl7tKe2h08y5",
        "outputId": "cf85c38d-5b83-4b22-cd14-7d9811e232a9"
      },
      "execution_count": 36,
      "outputs": [
        {
          "output_type": "execute_result",
          "data": {
            "text/plain": [
              "<matplotlib.axes._subplots.AxesSubplot at 0x7f44c38f4a30>"
            ]
          },
          "metadata": {},
          "execution_count": 36
        },
        {
          "output_type": "display_data",
          "data": {
            "text/plain": [
              "<Figure size 432x288 with 1 Axes>"
            ],
            "image/png": "[encoded data removed]"
          },
          "metadata": {
            "needs_background": "light"
          }
        }
      ]
    },
    {
      "cell_type": "markdown",
      "metadata": {
        "id": "OHnZRFNBfmPO"
      },
      "source": [
        "**<CAPTION FOR VIZ 2>**"
      ]
    },
    {
      "cell_type": "markdown",
      "source": [
        "As you see from the two graphs they have very similar images and once again it shows that money spent on instruction isn't very indicitave of scores but the data points that have more money spent on school on average have higher scores."
      ],
      "metadata": {
        "id": "_Xno-lB21Reu"
      }
    },
    {
      "cell_type": "markdown",
      "metadata": {
        "id": "pxZDoG_DfmPP"
      },
      "source": [
        "<h2> Data Creation </h2>\n",
        "\n",
        "_Use this space to create train/test data_"
      ]
    },
    {
      "cell_type": "code",
      "execution_count": 111,
      "metadata": {
        "id": "alO5SDoFfmPP"
      },
      "outputs": [],
      "source": [
        "from sklearn.model_selection import train_test_split\n",
        "\n",
        "df = df.dropna()"
      ]
    },
    {
      "cell_type": "code",
      "execution_count": 127,
      "metadata": {
        "id": "CyXfNESLfmPP"
      },
      "outputs": [],
      "source": [
        "X = df.drop(columns=[\"AVG_MATH_4_SCORE\", \"PRIMARY_KEY\", \"STATE\"])\n",
        "y = df[\"AVG_MATH_4_SCORE\"]"
      ]
    },
    {
      "cell_type": "code",
      "execution_count": 128,
      "metadata": {
        "id": "OSc1LBWefmPP"
      },
      "outputs": [],
      "source": [
        "X_train, X_test, y_train, y_test = train_test_split(X, y, test_size=.7, random_state=0)"
      ]
    },
    {
      "cell_type": "markdown",
      "metadata": {
        "id": "Rn-iB_0jfmPQ"
      },
      "source": [
        "<h2> Prediction </h2>"
      ]
    },
    {
      "cell_type": "markdown",
      "metadata": {
        "id": "ml7iOJtnfmPQ"
      },
      "source": [
        "ML Models [Resource](https://medium.com/@vijaya.beeravalli/comparison-of-machine-learning-classification-models-for-credit-card-default-data-c3cf805c9a5a)"
      ]
    },
    {
      "cell_type": "code",
      "execution_count": 132,
      "metadata": {
        "id": "QUy5FQOSfmPQ"
      },
      "outputs": [],
      "source": [
        "from sklearn.linear_model import LinearRegression"
      ]
    },
    {
      "cell_type": "code",
      "execution_count": 133,
      "metadata": {
        "id": "h8bc5s9vfmPQ"
      },
      "outputs": [],
      "source": [
        "# create your model here\n",
        "model = LinearRegression()"
      ]
    },
    {
      "cell_type": "code",
      "execution_count": 134,
      "metadata": {
        "id": "zXr0DmxzfmPQ",
        "colab": {
          "base_uri": "https://localhost:8080/"
        },
        "outputId": "4ae65398-c492-4936-f7cd-3ae4cfd5580a"
      },
      "outputs": [
        {
          "output_type": "execute_result",
          "data": {
            "text/plain": [
              "LinearRegression()"
            ]
          },
          "metadata": {},
          "execution_count": 134
        }
      ],
      "source": [
        "model.fit(X_train, y_train)"
      ]
    },
    {
      "cell_type": "code",
      "execution_count": 135,
      "metadata": {
        "id": "D26Gqd_UfmPQ"
      },
      "outputs": [],
      "source": [
        "y_pred = model.predict(X_test)"
      ]
    },
    {
      "cell_type": "markdown",
      "metadata": {
        "id": "rIKiM761fmPQ"
      },
      "source": [
        "## Evaluation"
      ]
    },
    {
      "cell_type": "markdown",
      "metadata": {
        "id": "nEz59V8sfmPQ"
      },
      "source": [
        "Choose some metrics to evaluate the performance of your model, some of them are mentioned in the tutorial."
      ]
    },
    {
      "cell_type": "code",
      "execution_count": 136,
      "metadata": {
        "id": "m3e-eWzxfmPR",
        "colab": {
          "base_uri": "https://localhost:8080/"
        },
        "outputId": "b87b28f7-9e4d-4a2d-89fe-001fde4680ee"
      },
      "outputs": [
        {
          "output_type": "execute_result",
          "data": {
            "text/plain": [
              "0.8854974167825012"
            ]
          },
          "metadata": {},
          "execution_count": 136
        }
      ],
      "source": [
        "model.score(X_test, y_test)"
      ]
    },
    {
      "cell_type": "code",
      "source": [
        "np.mean(model.predict(X_test)-y_test)"
      ],
      "metadata": {
        "colab": {
          "base_uri": "https://localhost:8080/"
        },
        "id": "KrY8hlYX6Dib",
        "outputId": "f4e5b1f7-748a-4cd8-e0c3-47b2f30084ac"
      },
      "execution_count": 137,
      "outputs": [
        {
          "output_type": "execute_result",
          "data": {
            "text/plain": [
              "-0.08099016190166754"
            ]
          },
          "metadata": {},
          "execution_count": 137
        }
      ]
    },
    {
      "cell_type": "code",
      "source": [
        "np.mean((model.predict(X_test)-y_test)**2)**0.5"
      ],
      "metadata": {
        "colab": {
          "base_uri": "https://localhost:8080/"
        },
        "id": "oaeGLsyy6Mdt",
        "outputId": "c539a0cb-6367-4236-d1b9-9f8a2d2c3590"
      },
      "execution_count": 138,
      "outputs": [
        {
          "output_type": "execute_result",
          "data": {
            "text/plain": [
              "2.284714133013187"
            ]
          },
          "metadata": {},
          "execution_count": 138
        }
      ]
    },
    {
      "cell_type": "markdown",
      "metadata": {
        "id": "WKVBJhZzfmPR"
      },
      "source": [
        "We have copied over the graphs that visualize the model's performance on the training and testing set. \n",
        "\n",
        "Change `col_name` and modify the call to `plt.ylabel()` to isolate how a single predictor affects the model."
      ]
    },
    {
      "cell_type": "code",
      "execution_count": 140,
      "metadata": {
        "id": "asxvIxnKfmPR",
        "colab": {
          "base_uri": "https://localhost:8080/",
          "height": 422
        },
        "outputId": "831278b6-e16e-4f00-b92d-6649ca9efc64"
      },
      "outputs": [
        {
          "output_type": "execute_result",
          "data": {
            "text/plain": [
              "Text(0.5, 1.0, 'Model Behavior On Training Set')"
            ]
          },
          "metadata": {},
          "execution_count": 140
        },
        {
          "output_type": "display_data",
          "data": {
            "text/plain": [
              "<Figure size 864x432 with 1 Axes>"
            ],
            "image/png": "[encoded data removed]"
          },
          "metadata": {
            "needs_background": "light"
          }
        }
      ],
      "source": [
        "col_name = 'INSTRUCTION_EXPENDITURE'\n",
        "\n",
        "f = plt.figure(figsize=(12,6))\n",
        "plt.scatter(X_train[col_name], y_train, color = \"red\")\n",
        "plt.scatter(X_train[col_name], model.predict(X_train), color = \"green\")\n",
        "\n",
        "plt.legend(['True Training','Predicted Training'])\n",
        "plt.xlabel(col_name)\n",
        "plt.ylabel(\"Math 4 Score\")\n",
        "plt.title(\"Model Behavior On Training Set\")"
      ]
    },
    {
      "cell_type": "code",
      "execution_count": 141,
      "metadata": {
        "id": "SZZexBETfmPR",
        "colab": {
          "base_uri": "https://localhost:8080/",
          "height": 422
        },
        "outputId": "b972cf0f-cb1a-4932-b9d7-06f7c34eaaf6"
      },
      "outputs": [
        {
          "output_type": "execute_result",
          "data": {
            "text/plain": [
              "Text(0.5, 1.0, 'Model Behavior on Testing Set')"
            ]
          },
          "metadata": {},
          "execution_count": 141
        },
        {
          "output_type": "display_data",
          "data": {
            "text/plain": [
              "<Figure size 864x432 with 1 Axes>"
            ],
            "image/png": "[encoded data removed]"
          },
          "metadata": {
            "needs_background": "light"
          }
        }
      ],
      "source": [
        "col_name = 'INSTRUCTION_EXPENDITURE'\n",
        "f = plt.figure(figsize=(12,6))\n",
        "plt.scatter(X_test[col_name], y_test, color = \"blue\")\n",
        "plt.scatter(X_test[col_name], model.predict(X_test), color = \"black\")\n",
        "plt.legend(['True testing','Predicted testing'])\n",
        "plt.xlabel(col_name)\n",
        "plt.ylabel(\"Math 4 Score\")\n",
        "plt.title(\"Model Behavior on Testing Set\")"
      ]
    },
    {
      "cell_type": "markdown",
      "metadata": {
        "id": "NuCbZ0SKfmPR"
      },
      "source": [
        "<h2> Summary </h2>"
      ]
    },
    {
      "cell_type": "markdown",
      "metadata": {
        "id": "qFEPy78XfmPR"
      },
      "source": [
        "When dealing with this data I had to work out many kinks due to issues with strings and what not so I took out all data that included strings. Sadly my predictor doesn't actually say much about thet average math 4 score but it does show that there is more consistency among test scores when there is an increase in spending on instruction.For my model I thought that linear regression would be the best because it is simple and shows how consistent data is. I came across the issue that when I had switched around what the column name is and what the y label is it wouldn't work so I just had to settle for what I have. Also, our model shows that it works well on the training set and the testing set, but not too well."
      ]
    }
  ],
  "metadata": {
    "kernelspec": {
      "display_name": "Python 3.9.0 64-bit",
      "language": "python",
      "name": "python3"
    },
    "language_info": {
      "codemirror_mode": {
        "name": "ipython",
        "version": 3
      },
      "file_extension": ".py",
      "mimetype": "text/x-python",
      "name": "python",
      "nbconvert_exporter": "python",
      "pygments_lexer": "ipython3",
      "version": "3.9.0"
    },
    "vscode": {
      "interpreter": {
        "hash": "6cf8df3ff69f85f626faf55c10df6fe2cb9d1236b4dc73844ee4dc01369c2c99"
      }
    },
    "colab": {
      "provenance": []
    }
  },
  "nbformat": 4,
  "nbformat_minor": 0
}