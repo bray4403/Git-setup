{
  "cells": [
    {
      "cell_type": "markdown",
      "metadata": {
        "id": "0a8IYAJUshu1"
      },
      "source": [
        "# Checkpoint 0 "
      ],
      "id": "0a8IYAJUshu1"
    },
    {
      "cell_type": "markdown",
      "metadata": {
        "id": "KPqeZyFpjuyA"
      },
      "source": [
        "These exercises are a mix of Python and Pandas practice. Most should be no more than a few lines of code! "
      ],
      "id": "KPqeZyFpjuyA"
    },
    {
      "cell_type": "code",
      "execution_count": null,
      "metadata": {
        "id": "Jo6wuTgkshu1"
      },
      "outputs": [],
      "source": [
        "# here is a Python list:\n",
        "\n",
        "a = [1, 2, 3, 4, 5, 6]\n"
      ],
      "id": "Jo6wuTgkshu1"
    },
    {
      "cell_type": "code",
      "execution_count": null,
      "id": "779d96b1",
      "metadata": {
        "id": "779d96b1",
        "outputId": "b2796d67-692f-4b93-b27f-ff3a4c0d85ca",
        "colab": {
          "base_uri": "https://localhost:8080/"
        }
      },
      "outputs": [
        {
          "output_type": "execute_result",
          "data": {
            "text/plain": [
              "[4, 5, 6]"
            ]
          },
          "metadata": {},
          "execution_count": 3
        }
      ],
      "source": [
        "# get a list containing the last 3 elements of a\n",
        "# Yes, you can just type out [4, 5, 6] but we really want to see you demonstrate you know how to use list slicing in Python\n",
        "a[3:]"
      ]
    },
    {
      "cell_type": "code",
      "execution_count": null,
      "id": "b6a54def",
      "metadata": {
        "id": "b6a54def",
        "outputId": "61805775-ed33-4d56-c207-89b46070068c",
        "colab": {
          "base_uri": "https://localhost:8080/"
        }
      },
      "outputs": [
        {
          "output_type": "execute_result",
          "data": {
            "text/plain": [
              "[1, 2, 3, 4, 5, 6, 7, 8, 9, 10, 11, 12, 13, 14, 15, 16, 17, 18, 19, 20]"
            ]
          },
          "metadata": {},
          "execution_count": 5
        }
      ],
      "source": [
        "# create a list of numbers from 1 to 20\n",
        "b = list(range(1,21))\n",
        "b"
      ]
    },
    {
      "cell_type": "code",
      "execution_count": null,
      "id": "487873ac",
      "metadata": {
        "id": "487873ac",
        "outputId": "b9fe1641-99fd-41e5-a5b3-000ede156fed",
        "colab": {
          "base_uri": "https://localhost:8080/"
        }
      },
      "outputs": [
        {
          "output_type": "execute_result",
          "data": {
            "text/plain": [
              "[2,\n",
              " 4,\n",
              " 6,\n",
              " 8,\n",
              " 10,\n",
              " 12,\n",
              " 14,\n",
              " 16,\n",
              " 18,\n",
              " 20,\n",
              " 22,\n",
              " 24,\n",
              " 26,\n",
              " 28,\n",
              " 30,\n",
              " 32,\n",
              " 34,\n",
              " 36,\n",
              " 38,\n",
              " 40,\n",
              " 42,\n",
              " 44,\n",
              " 46,\n",
              " 48,\n",
              " 50,\n",
              " 52,\n",
              " 54,\n",
              " 56,\n",
              " 58,\n",
              " 60,\n",
              " 62,\n",
              " 64,\n",
              " 66,\n",
              " 68,\n",
              " 70,\n",
              " 72,\n",
              " 74,\n",
              " 76,\n",
              " 78,\n",
              " 80,\n",
              " 82,\n",
              " 84,\n",
              " 86,\n",
              " 88,\n",
              " 90,\n",
              " 92,\n",
              " 94,\n",
              " 96,\n",
              " 98,\n",
              " 100]"
            ]
          },
          "metadata": {},
          "execution_count": 7
        }
      ],
      "source": [
        "# now get a list with only the even numbers between 1 and 100\n",
        "# you may or may not make use of the list you made in the last cell\n",
        "c = []\n",
        "for number in range(1,101):\n",
        "  if (number % 2 == 0):\n",
        "    c.append(number)\n",
        "c\n"
      ]
    },
    {
      "cell_type": "code",
      "execution_count": null,
      "id": "3d4bb5dd",
      "metadata": {
        "id": "3d4bb5dd",
        "outputId": "4af178bf-e63e-4921-86bc-2c2099c51944",
        "colab": {
          "base_uri": "https://localhost:8080/"
        }
      },
      "outputs": [
        {
          "output_type": "execute_result",
          "data": {
            "text/plain": [
              "2.0"
            ]
          },
          "metadata": {},
          "execution_count": 8
        }
      ],
      "source": [
        "# write a function that takes two numbers as arguments\n",
        "# and returns the first number divided by the second\n",
        "def divide(num1, num2):\n",
        "  a = num1 / num2\n",
        "  return a\n",
        "divide(4,2)\n"
      ]
    },
    {
      "cell_type": "code",
      "execution_count": null,
      "id": "b93669fa",
      "metadata": {
        "id": "b93669fa",
        "outputId": "54b1a83b-4ec2-455a-8388-8f6e836687c6",
        "colab": {
          "base_uri": "https://localhost:8080/",
          "height": 35
        }
      },
      "outputs": [
        {
          "output_type": "execute_result",
          "data": {
            "text/plain": [
              "'BALL'"
            ],
            "application/vnd.google.colaboratory.intrinsic+json": {
              "type": "string"
            }
          },
          "metadata": {},
          "execution_count": 10
        }
      ],
      "source": [
        "# write a function that takes a string as input\n",
        "# and return that string in all caps\n",
        "def uppercase(word):\n",
        "  a = word.upper()\n",
        "  return a\n",
        "uppercase(\"ball\")"
      ]
    },
    {
      "cell_type": "code",
      "execution_count": null,
      "id": "f55df04e",
      "metadata": {
        "id": "f55df04e",
        "outputId": "5e749fcd-8d56-45e9-a838-52264579d510",
        "colab": {
          "base_uri": "https://localhost:8080/"
        }
      },
      "outputs": [
        {
          "output_type": "stream",
          "name": "stdout",
          "text": [
            "fizzbuzz\n",
            "fizz\n",
            "buzz\n",
            "fizz\n",
            "fizz\n",
            "buzz\n",
            "fizz\n",
            "fizzbuzz\n",
            "fizz\n",
            "buzz\n",
            "fizz\n",
            "fizz\n",
            "buzz\n",
            "fizz\n"
          ]
        }
      ],
      "source": [
        "# fizzbuzz\n",
        "# you will need to use both iteration and control flow \n",
        "# go through all numbers from 1 to 30 in order\n",
        "# if the number is a multiple of 3, print fizz\n",
        "# if the number is a multiple of 5, print buzz\n",
        "# if the number is a multiple of 3 and 5, print fizzbuzz and NOTHING ELSE\n",
        "# if the number is neither a multiple of 3 nor a multiple of 5, print the number\n",
        "def fizzbuzz():\n",
        "  for i in range(30):\n",
        "    if(i%5 == 0 and i%3 == 0):\n",
        "      print(\"fizzbuzz\")\n",
        "    elif(i%3 == 0):\n",
        "      print(\"fizz\")\n",
        "    elif(i%5 == 0):\n",
        "      print(\"buzz\")\n",
        "fizzbuzz()"
      ]
    },
    {
      "cell_type": "code",
      "execution_count": null,
      "id": "78aace0b",
      "metadata": {
        "id": "78aace0b"
      },
      "outputs": [],
      "source": [
        "# create a dictionary that reflects the following menu pricing (taken from Ahmo's)\n",
        "# Gyro: $9 \n",
        "# Burger: $9\n",
        "# Greek Salad: $8\n",
        "# Philly Steak: $10"
      ]
    },
    {
      "cell_type": "code",
      "execution_count": null,
      "metadata": {
        "id": "WzCQ5HOJshvA"
      },
      "outputs": [],
      "source": [
        "# load in the \"starbucks.csv\" dataset\n",
        "# refer to how we read the cereal.csv dataset in the tutorial\n"
      ],
      "id": "WzCQ5HOJshvA"
    },
    {
      "cell_type": "code",
      "execution_count": null,
      "id": "68210b5f",
      "metadata": {
        "id": "68210b5f"
      },
      "outputs": [],
      "source": [
        "# output the calories, sugars, and protein columns only of every 40th row. "
      ]
    },
    {
      "cell_type": "code",
      "execution_count": null,
      "id": "ac0f0c12",
      "metadata": {
        "id": "ac0f0c12"
      },
      "outputs": [],
      "source": [
        "# select all rows with more than and including 400 calories"
      ]
    },
    {
      "cell_type": "code",
      "execution_count": null,
      "id": "ee8f8241",
      "metadata": {
        "id": "ee8f8241"
      },
      "outputs": [],
      "source": [
        "# select all rows whose vitamin c content is higher than the iron content"
      ]
    },
    {
      "cell_type": "code",
      "execution_count": null,
      "id": "d4de48bb",
      "metadata": {
        "id": "d4de48bb"
      },
      "outputs": [],
      "source": [
        "# create a new column containing the caffeine per calories of each drink"
      ]
    },
    {
      "cell_type": "code",
      "execution_count": null,
      "metadata": {
        "id": "rIoxaSxHshvB"
      },
      "outputs": [],
      "source": [
        "# what is the average calorie across all items?\n"
      ],
      "id": "rIoxaSxHshvB"
    },
    {
      "cell_type": "code",
      "execution_count": null,
      "metadata": {
        "id": "ABX7i49FshvD"
      },
      "outputs": [],
      "source": [
        "# how many different categories of beverages are there?\n"
      ],
      "id": "ABX7i49FshvD"
    },
    {
      "cell_type": "code",
      "execution_count": null,
      "metadata": {
        "id": "P9QatZAzshvE"
      },
      "outputs": [],
      "source": [
        "# what is the average # calories for each beverage category?\n"
      ],
      "id": "P9QatZAzshvE"
    },
    {
      "cell_type": "code",
      "execution_count": null,
      "metadata": {
        "id": "FZA_weOqjuyH"
      },
      "outputs": [],
      "source": [
        "# plot the distribution of the number of calories in drinks with a histogram\n"
      ],
      "id": "FZA_weOqjuyH"
    },
    {
      "cell_type": "code",
      "execution_count": null,
      "metadata": {
        "id": "vUpuxsnPjuyH"
      },
      "outputs": [],
      "source": [
        "# plot calories against total fat with a scatterplot\n"
      ],
      "id": "vUpuxsnPjuyH"
    }
  ],
  "metadata": {
    "kernelspec": {
      "display_name": "Python 3.9.0 64-bit",
      "language": "python",
      "name": "python3"
    },
    "language_info": {
      "codemirror_mode": {
        "name": "ipython",
        "version": 3
      },
      "file_extension": ".py",
      "mimetype": "text/x-python",
      "name": "python",
      "nbconvert_exporter": "python",
      "pygments_lexer": "ipython3",
      "version": "3.9.0"
    },
    "vscode": {
      "interpreter": {
        "hash": "6cf8df3ff69f85f626faf55c10df6fe2cb9d1236b4dc73844ee4dc01369c2c99"
      }
    },
    "colab": {
      "provenance": []
    }
  },
  "nbformat": 4,
  "nbformat_minor": 5
}